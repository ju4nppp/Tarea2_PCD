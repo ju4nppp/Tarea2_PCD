{
 "cells": [
  {
   "cell_type": "markdown",
   "id": "6781a251",
   "metadata": {},
   "source": [
    "## Tarea 2 proyecto de ciencia de datos\n"
   ]
  },
  {
   "attachments": {},
   "cell_type": "markdown",
   "id": "b2ad47f1",
   "metadata": {},
   "source": [
    "### MLOps es Machine Learning Operations, que es una rama de la ingeniería en Machine Learning que se ocupa de mantener los sistemas de los modelos. Llevarlos a producción, monitorearlos y mejorarlos. En esta tarea trabajan juntos data scientists, devops y mas miembros de IT.\n",
    "\n",
    "### Sirve para mantener y mejorar las aplicaciones de las IA en las empresas de una manera eficiente. Los beneficios de los MLOps son la eficiencia, la escalabilidad de los sistemas y la reducción de riesgos."
   ]
  },
  {
   "cell_type": "code",
   "execution_count": null,
   "id": "8cfe2d76",
   "metadata": {},
   "outputs": [],
   "source": []
  }
 ],
 "metadata": {
  "kernelspec": {
   "display_name": "Python 3 (ipykernel)",
   "language": "python",
   "name": "python3"
  },
  "language_info": {
   "codemirror_mode": {
    "name": "ipython",
    "version": 3
   },
   "file_extension": ".py",
   "mimetype": "text/x-python",
   "name": "python",
   "nbconvert_exporter": "python",
   "pygments_lexer": "ipython3",
   "version": "3.11.4"
  }
 },
 "nbformat": 4,
 "nbformat_minor": 5
}
